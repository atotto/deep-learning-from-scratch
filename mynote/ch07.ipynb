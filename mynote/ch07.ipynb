{
 "cells": [
  {
   "cell_type": "markdown",
   "metadata": {},
   "source": [
    "畳み込みニューラルネットワーク:CNN(convolutional neural network)\n",
    "--\n",
    "\n",
    "CNN\n",
    "\n",
    "- 畳み込み層（Convolutionレイヤ）とプーリング層（Poolingレイヤ）を前後に追加\n",
    "\n",
    "全結合のニューラルネットワークの問題点\n",
    "\n",
    "- 一次元の情報を扱う\n",
    "- → データの形状を活かすことができない（画像中の空間情報など）\n",
    "\n",
    "畳み込み層（Convolutionレイヤ）\n",
    "\n",
    "- 形状を維持する\n",
    "- 畳み込み演算（画像処理でいうフィルタ）\n",
    "\n",
    "プーリング層（Poolingレイヤ）\n",
    "\n",
    "- 最大値（平均値）を取る処理（学習するパラメータはない）\n",
    "- 入力と出力のチャンネル数は変化しない\n",
    "- 微小量の位置変化に対してロバスト\n"
   ]
  },
  {
   "cell_type": "markdown",
   "metadata": {},
   "source": [
    "CNNの可視化\n",
    "\n",
    "- 1層目の重みを可視化するとエッジや、blobをもつフィルタになっているのがわかる\n",
    "- 層を重ねると、テクスチャ、物体のパーツに反応するような層になる\n"
   ]
  }
 ],
 "metadata": {
  "kernelspec": {
   "display_name": "Python [Root]",
   "language": "python",
   "name": "Python [Root]"
  },
  "language_info": {
   "codemirror_mode": {
    "name": "ipython",
    "version": 3
   },
   "file_extension": ".py",
   "mimetype": "text/x-python",
   "name": "python",
   "nbconvert_exporter": "python",
   "pygments_lexer": "ipython3",
   "version": "3.5.2"
  }
 },
 "nbformat": 4,
 "nbformat_minor": 0
}
