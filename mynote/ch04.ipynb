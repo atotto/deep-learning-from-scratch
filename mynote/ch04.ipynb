{
 "cells": [
  {
   "cell_type": "markdown",
   "metadata": {},
   "source": [
    "ニューラルネットワーク\n",
    "\n",
    "- データが命\n",
    "\n",
    "機械学習\n",
    "\n",
    "- 画像から特徴量を抽出して、特徴量のパターンを学習する\n",
    "  - 特徴量、SIFT、SURF、HOGなど\n",
    "  - 機械学習の識別器、SVG、KNNで学習\n",
    "- 特徴量考えたくない\n",
    "\n",
    "ニューラルネットワーク\n",
    "\n",
    "- 特徴量も学習する\n",
    "- ディープラーニング(end-to-end machine learning)\n",
    "\n",
    "ニューラルネットワークでの学習\n",
    "\n",
    "- 訓練データ（教師データ）とテストデータを準備する\n",
    "- 「あるデータセット」だけに過度に対応した状態＝「過学習(overfitting)」\n",
    "\n",
    "損失関数(loss function)\n",
    "\n",
    "- 学習で用いられる指標\n",
    "- 指標を手がかりに最適なパラメータを探索する\n",
    "- 一般的に、2乗和誤差、交差エントロピー誤差を用いる\n",
    "\n"
   ]
  },
  {
   "cell_type": "code",
   "execution_count": 12,
   "metadata": {
    "collapsed": false
   },
   "outputs": [
    {
     "name": "stdout",
     "output_type": "stream",
     "text": [
      "0.0975\n",
      "0.510825457099\n",
      "0.5975\n",
      "2.30258409299\n"
     ]
    }
   ],
   "source": [
    "import numpy as np\n",
    "\n",
    "# 2乗和誤差\n",
    "def mean_squared_error(y, t):\n",
    "    return 0.5 * np.sum((y-t)**2)\n",
    "\n",
    "# 交差エントロピー誤差\n",
    "def cross_entropy_error(y, t):\n",
    "    delta = 1e-7\n",
    "    return -np.sum(t * np.log(y + delta))\n",
    "\n",
    "# ２番目が正解\n",
    "t = [0, 0, 1, 0, 0, 0, 0, 0, 0, 0]\n",
    "\n",
    "# ２番目の確率が0.6\n",
    "y = [0.1, 0.05, 0.6, 0.0, 0.05, 0.1, 0.0, 0.1, 0.0, 0.0]\n",
    "ans = mean_squared_error(np.array(y), np.array(t))\n",
    "print(ans)\n",
    "ans = cross_entropy_error(np.array(y), np.array(t))\n",
    "print(ans)\n",
    "\n",
    "# ２番目の確率が0.1\n",
    "y = [0.1, 0.05, 0.1, 0.0, 0.05, 0.1, 0.0, 0.6, 0.0, 0.0]\n",
    "ans = mean_squared_error(np.array(y), np.array(t))\n",
    "print(ans)\n",
    "ans = cross_entropy_error(np.array(y), np.array(t))\n",
    "print(ans)\n"
   ]
  },
  {
   "cell_type": "code",
   "execution_count": null,
   "metadata": {
    "collapsed": true
   },
   "outputs": [],
   "source": []
  }
 ],
 "metadata": {
  "anaconda-cloud": {},
  "kernelspec": {
   "display_name": "Python [Root]",
   "language": "python",
   "name": "Python [Root]"
  },
  "language_info": {
   "codemirror_mode": {
    "name": "ipython",
    "version": 3
   },
   "file_extension": ".py",
   "mimetype": "text/x-python",
   "name": "python",
   "nbconvert_exporter": "python",
   "pygments_lexer": "ipython3",
   "version": "3.5.2"
  }
 },
 "nbformat": 4,
 "nbformat_minor": 0
}
