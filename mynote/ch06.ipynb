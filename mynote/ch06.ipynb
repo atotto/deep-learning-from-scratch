{
 "cells": [
  {
   "cell_type": "markdown",
   "metadata": {},
   "source": [
    "最適化(optimization)\n",
    "--\n",
    "\n",
    "optimizer\n",
    "\n",
    "- `update()`メソッドをもつ\n",
    "\n",
    "SGD(stochastic gradient descent)：確率的勾配降下法\n",
    "\n",
    "- 単純で簡単\n",
    "- 関数の形状によっては非効率な場合がある\n",
    "\n",
    "Momentum\n",
    "\n",
    "- 物理的な運動量に相当するものを持つ\n",
    "- SGDに比べ、ジグザクの動きを軽減\n",
    "\n",
    "AdaGrad\n",
    "\n",
    "- 学習係数を学習が進みに連れ減衰させる\n",
    "\n",
    "Adam\n",
    "\n",
    "- Momentum + AdaGrad\n"
   ]
  },
  {
   "cell_type": "markdown",
   "metadata": {},
   "source": [
    "重みの初期値\n",
    "--\n",
    "\n",
    "- 初期値を0にしてしまうと正しい学習がおこなえない\n",
    "- アクティベーション分布をみて、広がりのある初期値となるようにしたい\n",
    "- 活性関数にReLUを使い場合はHeの初期値、sigmidやtanhなどのS字カーブのときはXavierの初期値を使う、がベスト・プラクティス\n",
    "- Batch Normalizationが近年よく使われてる"
   ]
  },
  {
   "cell_type": "code",
   "execution_count": 20,
   "metadata": {
    "collapsed": false
   },
   "outputs": [],
   "source": [
    "import numpy as np\n",
    "import matplotlib.pyplot as plt\n",
    "%matplotlib inline\n",
    "\n",
    "\n",
    "def plotHist(activations):\n",
    "    plt.figure(figsize=(10, 2))\n",
    "    for i, a in activations.items():\n",
    "        plt.subplot(1, len(activations), i+1)\n",
    "        plt.title(str(i+1) + \"-layer\")\n",
    "        if i != 0: plt.yticks([], [])\n",
    "        plt.hist(a.flatten(), 30, range=(0,1))\n",
    "    plt.show()\n",
    "\n",
    "node_num = 100\n",
    "hidden_layer_size = 5"
   ]
  },
  {
   "cell_type": "code",
   "execution_count": 32,
   "metadata": {
    "collapsed": false
   },
   "outputs": [
    {
     "data": {
      "image/png": "[encoded data removed]",
      "text/plain": [
       "<matplotlib.figure.Figure at 0xa52d7d0>"
      ]
     },
     "metadata": {},
     "output_type": "display_data"
    }
   ],
   "source": [
    "def sigmoid(x):\n",
    "    return 1 / (1 + np.exp(-x))\n",
    "\n",
    "x = np.random.randn(1000, 100)\n",
    "activations = {}\n",
    "\n",
    "for i in range(hidden_layer_size):\n",
    "    if i != 0:\n",
    "        x = activations[i-1]\n",
    "\n",
    "    #w = np.random.randn(node_num, node_num) * 1\n",
    "    #w = np.random.randn(node_num, node_num) * 0.01\n",
    "    w = np.random.randn(node_num, node_num) * np.sqrt(1.0 / node_num) # Xavierの初期値\n",
    "\n",
    "    z = np.dot(x, w)\n",
    "    a = sigmoid(z)\n",
    "    activations[i] = a\n",
    "\n",
    "plotHist(activations)"
   ]
  },
  {
   "cell_type": "code",
   "execution_count": 33,
   "metadata": {
    "collapsed": false
   },
   "outputs": [
    {
     "data": {
      "image/png": "[encoded data removed]",
      "text/plain": [
       "<matplotlib.figure.Figure at 0x94aa430>"
      ]
     },
     "metadata": {},
     "output_type": "display_data"
    }
   ],
   "source": [
    "def tanh(x):\n",
    "    return np.tanh(x)\n",
    "\n",
    "x = np.random.randn(1000, 100)\n",
    "activations = {}\n",
    "\n",
    "for i in range(hidden_layer_size):\n",
    "    if i != 0:\n",
    "        x = activations[i-1]\n",
    "\n",
    "    #w = np.random.randn(node_num, node_num) * 1\n",
    "    #w = np.random.randn(node_num, node_num) * 0.01\n",
    "    w = np.random.randn(node_num, node_num) * np.sqrt(1.0 / node_num) # Xavierの初期値\n",
    "\n",
    "    z = np.dot(x, w)\n",
    "    a = tanh(z)\n",
    "    activations[i] = a\n",
    "\n",
    "plotHist(activations)"
   ]
  },
  {
   "cell_type": "code",
   "execution_count": 34,
   "metadata": {
    "collapsed": false
   },
   "outputs": [
    {
     "data": {
      "image/png": "[encoded data removed]",
      "text/plain": [
       "<matplotlib.figure.Figure at 0x85d2230>"
      ]
     },
     "metadata": {},
     "output_type": "display_data"
    }
   ],
   "source": [
    "def ReLU(x):\n",
    "    return np.maximum(0, x)\n",
    "\n",
    "x = np.random.randn(1000, 100)\n",
    "activations = {}\n",
    "\n",
    "for i in range(hidden_layer_size):\n",
    "    if i != 0:\n",
    "        x = activations[i-1]\n",
    "\n",
    "    #w = np.random.randn(node_num, node_num) * 1\n",
    "    #w = np.random.randn(node_num, node_num) * 0.01\n",
    "    #w = np.random.randn(node_num, node_num) * np.sqrt(1.0 / node_num) # Xavierの初期値\n",
    "    w = np.random.randn(node_num, node_num) * np.sqrt(2.0 / node_num) # Heの初期値\n",
    "\n",
    "    z = np.dot(x, w)\n",
    "    a = ReLU(z)\n",
    "    activations[i] = a\n",
    "\n",
    "plotHist(activations)"
   ]
  },
  {
   "cell_type": "markdown",
   "metadata": {},
   "source": [
    "正規化\n",
    "--\n",
    "\n",
    "- 過学習を抑制する\n",
    "\n",
    "Weight decay（荷重減衰）\n",
    "\n",
    "- 大きな重みを持つことにペナルティを課す\n",
    "\n",
    "Dropout\n",
    "\n",
    "- ニューロンをランダムに消去する\n",
    "\n",
    "ハイパーパラメータ\n",
    "\n",
    "- 重みやバイアスとは別\n",
    "- 各層のニューロンの数、バッチサイズ、学習係数、Weight decayなどのパラメータのこと\n",
    "- ハイパーパラメータを最適化するには長い時間がかかる\n"
   ]
  }
 ],
 "metadata": {
  "kernelspec": {
   "display_name": "Python [Root]",
   "language": "python",
   "name": "Python [Root]"
  },
  "language_info": {
   "codemirror_mode": {
    "name": "ipython",
    "version": 3
   },
   "file_extension": ".py",
   "mimetype": "text/x-python",
   "name": "python",
   "nbconvert_exporter": "python",
   "pygments_lexer": "ipython3",
   "version": "3.5.2"
  }
 },
 "nbformat": 4,
 "nbformat_minor": 0
}
