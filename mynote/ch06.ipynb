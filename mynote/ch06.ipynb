{
 "cells": [
  {
   "cell_type": "markdown",
   "metadata": {},
   "source": [
    "最適化(optimization)\n",
    "--\n",
    "\n",
    "optimizer\n",
    "\n",
    "- `update()`メソッドをもつ\n",
    "\n",
    "SGD(stochastic gradient descent)：確率的勾配降下法\n",
    "\n",
    "- 単純で簡単\n",
    "- 関数の形状によっては非効率な場合がある\n",
    "\n",
    "Momentum\n",
    "\n",
    "- 物理的な運動量に相当するものを持つ\n",
    "- SGDに比べ、ジグザクの動きを軽減\n",
    "\n",
    "AdaGrad\n",
    "\n",
    "- 学習係数を学習が進みに連れ減衰させる\n",
    "\n",
    "Adam\n",
    "\n",
    "- Momentum + AdaGrad\n"
   ]
  }
 ],
 "metadata": {
  "kernelspec": {
   "display_name": "Python [Root]",
   "language": "python",
   "name": "Python [Root]"
  },
  "language_info": {
   "codemirror_mode": {
    "name": "ipython",
    "version": 3
   },
   "file_extension": ".py",
   "mimetype": "text/x-python",
   "name": "python",
   "nbconvert_exporter": "python",
   "pygments_lexer": "ipython3",
   "version": "3.5.2"
  }
 },
 "nbformat": 4,
 "nbformat_minor": 0
}
